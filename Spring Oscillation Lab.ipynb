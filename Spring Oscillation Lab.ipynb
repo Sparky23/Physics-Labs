{
 "cells": [
  {
   "cell_type": "code",
   "execution_count": 3,
   "metadata": {
    "collapsed": true
   },
   "outputs": [],
   "source": [
    "%matplotlib inline"
   ]
  },
  {
   "cell_type": "markdown",
   "metadata": {},
   "source": [
    "# Spring Oscillation "
   ]
  },
  {
   "cell_type": "markdown",
   "metadata": {},
   "source": [
    "## Introduction"
   ]
  },
  {
   "cell_type": "markdown",
   "metadata": {},
   "source": [
    "In this lab, we are analyzing the oscillation of a spring. Oscillation refers to the back and forth movement of a spring when it is stretched out. We are going to find the relationship between mass and oscillation with respect to time."
   ]
  },
  {
   "cell_type": "markdown",
   "metadata": {},
   "source": [
    "## Procedure"
   ]
  },
  {
   "cell_type": "markdown",
   "metadata": {},
   "source": [
    "We took a spring and added mass to the end of the spring. The mass was recorderd by 50 grams. Then we extended the spring with the mass at its end and let it go to allow it to oscillate. In order to record the time of each oscillation, we took a stopwatch and recorded the time it would take for the spring to oscillate four times. We then divided that time by four in order to attain the average time of each oscillation. We repeated this five times for each weight added to the spring and took the average of the five values in order to receive a more accurate estimate of the time. "
   ]
  },
  {
   "cell_type": "markdown",
   "metadata": {},
   "source": [
    "## Data and Analysis"
   ]
  },
  {
   "cell_type": "markdown",
   "metadata": {},
   "source": [
    "| Mass (g) \t| Time (seconds)\t|\n",
    "|-----\t|---\t|\n",
    "| 50  \t|   0.292\t|\n",
    "| 100 \t|   0.443\t|\n",
    "| 150 \t|   0.471\t|\n",
    "| 200 \t|   0.534\t|\n",
    "| 250 \t|   0.618\t|\n",
    "| 300   |   0.713   "
   ]
  },
  {
   "cell_type": "code",
   "execution_count": 7,
   "metadata": {
    "collapsed": false
   },
   "outputs": [
    {
     "name": "stdout",
     "output_type": "stream",
     "text": [
      "0.00153885714068 0.242533333332\n"
     ]
    },
    {
     "data": {
      "image/png": "[encoded data removed]",
      "text/plain": [
       "<matplotlib.figure.Figure at 0x80a3198>"
      ]
     },
     "metadata": {},
     "output_type": "display_data"
    }
   ],
   "source": [
    "import matplotlib.pyplot as plt\n",
    "import numpy as np\n",
    "from scipy.optimize import curve_fit\n",
    "\n",
    "mass=(50, 100, 150, 200, 250, 300)\n",
    "time=(0.292, 0.443, 0.471, 0.534, 0.618, 0.713)\n",
    "xx = np.linspace(0, 350, 20)\n",
    "\n",
    "def lin_model(x,a,b):\n",
    "    return a*x + b\n",
    "\n",
    "a,b=curve_fit(lin_model,mass,time)[0]\n",
    "print(a,b)\n",
    "\n",
    "plt.plot(mass,time,'o')\n",
    "plt.plot(xx,lin_model(xx,a,b))\n",
    "plt.xlabel('Mass(g)')\n",
    "plt.ylabel('Time(sec)')\n",
    "plt.title ('Spring Oscillation Over Time')\n",
    "plt.ylim([0,1])\n",
    "plt.show()"
   ]
  },
  {
   "cell_type": "markdown",
   "metadata": {},
   "source": [
    "## Results "
   ]
  },
  {
   "cell_type": "markdown",
   "metadata": {},
   "source": [
    "The eqaution of the graph we attained from our data was $t=.0015m+.2425$\n",
    "We can infer from the equation that if no mass was added to the spring, it would take .24 seconds for the spring to oscillate. "
   ]
  }
 ],
 "metadata": {
  "kernelspec": {
   "display_name": "Python 3",
   "language": "python",
   "name": "python3"
  },
  "language_info": {
   "codemirror_mode": {
    "name": "ipython",
    "version": 3
   },
   "file_extension": ".py",
   "mimetype": "text/x-python",
   "name": "python",
   "nbconvert_exporter": "python",
   "pygments_lexer": "ipython3",
   "version": "3.4.4"
  }
 },
 "nbformat": 4,
 "nbformat_minor": 0
}
