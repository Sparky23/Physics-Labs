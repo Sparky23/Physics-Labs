{
 "cells": [
  {
   "cell_type": "code",
   "execution_count": 1,
   "metadata": {
    "collapsed": true
   },
   "outputs": [],
   "source": [
    "%matplotlib inline"
   ]
  },
  {
   "cell_type": "markdown",
   "metadata": {
    "collapsed": true
   },
   "source": [
    "# Modeling Static Friction"
   ]
  },
  {
   "cell_type": "markdown",
   "metadata": {},
   "source": [
    "## Introduction"
   ]
  },
  {
   "cell_type": "markdown",
   "metadata": {},
   "source": [
    "In this experiment, we are trying to analyze the relationship between static friction, the mass applied, and the force it takes to move the object. Static friction is the force acting against the force applied to an object. It has a limit though. If you apply enough force to the object, it will eventually move in the direction you want it to depending on its position, its mass, and any force acting on the object like gravity. What contributes to static friction and what cancels it out?"
   ]
  },
  {
   "cell_type": "markdown",
   "metadata": {
    "collapsed": true
   },
   "source": [
    "## Procedure (Flat Surface)"
   ]
  },
  {
   "cell_type": "markdown",
   "metadata": {},
   "source": [
    " In order to acquire some data to analyze the relation between these factors, we are going to add weight to a box, and then analyze how much force it takes to displace the object. We recorded the mass (grams) by intervals of 100 and measured how much force (Newtons) it would take to displace it on a flat surface and on a slanted surface."
   ]
  },
  {
   "cell_type": "markdown",
   "metadata": {},
   "source": [
    "## Data and Analysis (Flat Surface)"
   ]
  },
  {
   "cell_type": "markdown",
   "metadata": {},
   "source": [
    "| Mass (g) \t| Frictional Force (N)\t|\n",
    "|-----\t|---\t|\n",
    "| 0  \t|   0.10\t|\n",
    "| 100 \t|   0.50\t|\n",
    "| 200 \t|   1.00\t|\n",
    "| 300 \t|   1.25\t|\n",
    "| 400 \t|   1.50\t|\n",
    "| 500   |   1.75    |"
   ]
  },
  {
   "cell_type": "code",
   "execution_count": 5,
   "metadata": {
    "collapsed": false
   },
   "outputs": [
    {
     "name": "stdout",
     "output_type": "stream",
     "text": [
      "0.00328571428786 0.19523809458\n"
     ]
    },
    {
     "data": {
      "image/png": "[encoded data removed]",
      "text/plain": [
       "<matplotlib.figure.Figure at 0x615ed30>"
      ]
     },
     "metadata": {},
     "output_type": "display_data"
    }
   ],
   "source": [
    "import matplotlib.pyplot as plt\n",
    "import numpy as np\n",
    "from scipy.optimize import curve_fit\n",
    "\n",
    "weight=(0, 100, 200, 300, 400, 500)\n",
    "newtons=(0.10, 0.50, 1.00, 1.25, 1.50, 1.75)\n",
    "xx = np.linspace(0, 600, 20)\n",
    "\n",
    "def lin_model(x,a,b):\n",
    "    return a*x + b\n",
    "\n",
    "a,b=curve_fit(lin_model,weight,newtons)[0]\n",
    "print(a,b)\n",
    "\n",
    "plt.plot(weight,newtons,'o')\n",
    "plt.plot(xx,lin_model(xx,a,b))\n",
    "plt.xlabel('Mass(g)')\n",
    "plt.ylabel('Force(N)')\n",
    "plt.title ('Frictional Displacement On a Flat Surface')\n",
    "plt.ylim([0,3])\n",
    "plt.show()"
   ]
  },
  {
   "cell_type": "markdown",
   "metadata": {},
   "source": [
    "## Results"
   ]
  },
  {
   "cell_type": "markdown",
   "metadata": {
    "collapsed": true
   },
   "source": [
    "For our results we followed the model $f=am+N$. It gave us a linear line. From the results, we followed the model. We used linear regression to retain the linear equation... \n",
    "$$f=0.0033m+0.1952$$"
   ]
  },
  {
   "cell_type": "markdown",
   "metadata": {
    "collapsed": true
   },
   "source": [
    "## Conclusion (Flat Surface)"
   ]
  },
  {
   "cell_type": "markdown",
   "metadata": {},
   "source": [
    "According to the equation, when m=0,the force applied would be 0.1952 Newtons. This would be the amount of force required to displace the object when no weight is added to the block. What we did not consider is the actual weight of the box itself, which is why the force is not 0 when the weight is 0, according to the graph. The mass of the box would be represented further if the negative x-axis was shown.   "
   ]
  },
  {
   "cell_type": "markdown",
   "metadata": {
    "collapsed": true
   },
   "source": [
    "## Procedure (Slanted Surface)"
   ]
  },
  {
   "cell_type": "markdown",
   "metadata": {},
   "source": [
    "For this procedure, we used the same box and the same weights added and placed it on slanted surface. We applied force by pulling the object up the slant. We used a different surface and we recorded the mass added, not the total mass of the box and the weights. We took two data sets, one recorded from the surface slanted at 30° and another when the surface was slanted at 45°."
   ]
  },
  {
   "cell_type": "markdown",
   "metadata": {},
   "source": [
    "## Data and Analysis"
   ]
  },
  {
   "cell_type": "markdown",
   "metadata": {},
   "source": [
    "### At 30° slant "
   ]
  },
  {
   "cell_type": "markdown",
   "metadata": {},
   "source": [
    "\n",
    "| Mass (g) \t| Frictional Force (N)\t|\n",
    "|-----\t|---\t|\n",
    "| 0  \t|   0.40\t|\n",
    "| 100 \t|   1.20\t|\n",
    "| 200 \t|   1.60\t|\n",
    "| 300 \t|   2.40\t|\n",
    "| 400 \t|   2.80\t|\n",
    "| 500   |   3.20    |"
   ]
  },
  {
   "cell_type": "markdown",
   "metadata": {},
   "source": [
    "### At 45° slant"
   ]
  },
  {
   "cell_type": "markdown",
   "metadata": {},
   "source": [
    "| Mass (g) \t| Frictional Force (N)\t|\n",
    "|-----\t|---\t|\n",
    "| 0  \t|   1.60\t|\n",
    "| 100 \t|   2.00\t|\n",
    "| 200 \t|   2.80\t|\n",
    "| 300 \t|   3.80\t|\n",
    "| 400 \t|   4.20\t|\n",
    "| 500   |   4.80    |"
   ]
  },
  {
   "cell_type": "code",
   "execution_count": 20,
   "metadata": {
    "collapsed": false
   },
   "outputs": [
    {
     "name": "stdout",
     "output_type": "stream",
     "text": [
      "0.00328571428786 0.19523809458\n",
      "0.00559999999783 0.533333333332\n",
      "0.00674285714069 1.51428571429\n"
     ]
    },
    {
     "data": {
      "image/png": "[encoded data removed]",
      "text/plain": [
       "<matplotlib.figure.Figure at 0x6491080>"
      ]
     },
     "metadata": {},
     "output_type": "display_data"
    }
   ],
   "source": [
    "import matplotlib.pyplot as plt\n",
    "import numpy as np\n",
    "from scipy.optimize import curve_fit\n",
    "\n",
    "weight=[0, 100, 200, 300, 400, 500]\n",
    "level= [.10,.50,1.00, 1.25, 1.50, 1.75]\n",
    "incline1=[0.40, 1.20, 1.60, 2.40, 2.80, 3.20]\n",
    "incline2 = [1.60, 2.00, 2.80, 3.80, 4.20, 4.80]\n",
    "xx = np.linspace(0, 600, 20)\n",
    "\n",
    "def lin_model(x,a,b):\n",
    "    return a*x + b\n",
    "\n",
    "a,b=curve_fit(lin_model,weight,level)[0]\n",
    "c,d=curve_fit(lin_model,weight,incline1)[0]\n",
    "e,f=curve_fit(lin_model,weight,incline2)[0]\n",
    "print(a,b)\n",
    "print(c,d)\n",
    "print(e,f)\n",
    "\n",
    "plt.plot(weight,level,'.', label=\"0°\")\n",
    "plt.plot(weight,incline1,'.', label=\"30°\")\n",
    "plt.plot(weight,incline2,'.', label=\"45°\")\n",
    "plt.plot(xx,lin_model(xx,a,b))\n",
    "plt.plot(xx,lin_model(xx,c,d))\n",
    "plt.plot(xx,lin_model(xx,e,f))\n",
    "plt.legend(loc='upper left')\n",
    "#plt.text(50,4, r'Yellow=45°')\n",
    "\n",
    "plt.xlabel('Mass(g)')\n",
    "\n",
    "\n",
    "plt.ylabel('Force(N)')\n",
    "plt.title ('Frictional Displacement')\n",
    "plt.ylim([0,5])\n",
    "plt.show()"
   ]
  },
  {
   "cell_type": "markdown",
   "metadata": {},
   "source": [
    "## Results of 30 and 45 degree slants"
   ]
  },
  {
   "cell_type": "markdown",
   "metadata": {},
   "source": [
    "30° slant: We attained a linear model ($f=am+N$) for both slants. The equation of the graph we attained for the 30° slant was $$f=.00559m+.533$$"
   ]
  },
  {
   "cell_type": "markdown",
   "metadata": {},
   "source": [
    "The force changes at a rate of .00559 Newtons per gram. If the mass were to equal zero, then the amount of force required to displace the object would be .533 Newtons when the surface is slanted at 30°. "
   ]
  },
  {
   "cell_type": "markdown",
   "metadata": {},
   "source": [
    "45° slant: The equation of this graph we got was $$f=.00674m+1.51$$"
   ]
  },
  {
   "cell_type": "markdown",
   "metadata": {},
   "source": [
    "The force changes at a rate of .00674 Newtons per gram. If the mass were to equal zero, then the amount of force applied to displace the object would be 1.51 Newtons when the surface is slanted at 45°. "
   ]
  },
  {
   "cell_type": "markdown",
   "metadata": {},
   "source": [
    "## Conclusion"
   ]
  },
  {
   "cell_type": "markdown",
   "metadata": {},
   "source": [
    "Looking at the equations of the lines, we can infer that the force acting on an object increases as the slope of the surface increases. You can see this if you put the mass equal to zero for all equations and you retain the "
   ]
  },
  {
   "cell_type": "code",
   "execution_count": null,
   "metadata": {
    "collapsed": true
   },
   "outputs": [],
   "source": []
  }
 ],
 "metadata": {
  "kernelspec": {
   "display_name": "Python 3",
   "language": "python",
   "name": "python3"
  },
  "language_info": {
   "codemirror_mode": {
    "name": "ipython",
    "version": 3
   },
   "file_extension": ".py",
   "mimetype": "text/x-python",
   "name": "python",
   "nbconvert_exporter": "python",
   "pygments_lexer": "ipython3",
   "version": "3.4.4"
  }
 },
 "nbformat": 4,
 "nbformat_minor": 0
}
