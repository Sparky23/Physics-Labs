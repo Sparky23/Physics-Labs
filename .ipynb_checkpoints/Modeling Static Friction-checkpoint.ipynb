{
 "cells": [
  {
   "cell_type": "code",
   "execution_count": 4,
   "metadata": {
    "collapsed": true
   },
   "outputs": [],
   "source": [
    "%matplotlib inline"
   ]
  },
  {
   "cell_type": "markdown",
   "metadata": {},
   "source": [
    "# Modeling Static Friction"
   ]
  },
  {
   "cell_type": "markdown",
   "metadata": {},
   "source": [
    "## Introduction"
   ]
  },
  {
   "cell_type": "markdown",
   "metadata": {},
   "source": [
    "In this experiment, we are trying to analyze the relationship between static friction, the mass applied, and the force it takes to move the object. Static friction is the force acting against the force applied to an object. It has a limit though. If you apply enough force to the object, it will eventually move in the direction you want it to depending on its position, its mass, and any force acting on the object like gravity. What contributes to static friction and what cancels it out?"
   ]
  },
  {
   "cell_type": "markdown",
   "metadata": {
    "collapsed": true
   },
   "source": [
    "## Procedure"
   ]
  },
  {
   "cell_type": "markdown",
   "metadata": {},
   "source": [
    " In order to acquire some data to analyze the relation between these factors, we are going to add weight to a box, and then analyze how much force it takes to displace the object. We recorded the mass (grams) by intervals of 100 and measured how much force (Newtons) it would take to displace it on a flat surface."
   ]
  },
  {
   "cell_type": "markdown",
   "metadata": {},
   "source": [
    "## Data and Analysis"
   ]
  },
  {
   "cell_type": "markdown",
   "metadata": {},
   "source": [
    "| Mass (g) \t| Force (N)\t|\n",
    "|-----\t|---\t|\n",
    "| 0  \t|   0.10\t|\n",
    "| 100 \t|   0.50\t|\n",
    "| 200 \t|   1.00\t|\n",
    "| 300 \t|   1.25\t|\n",
    "| 400 \t|   1.50\t|\n",
    "| 500   |   1.75    |"
   ]
  },
  {
   "cell_type": "code",
   "execution_count": 9,
   "metadata": {
    "collapsed": false
   },
   "outputs": [
    {
     "name": "stdout",
     "output_type": "stream",
     "text": [
      "0.00328571428786 0.19523809458\n"
     ]
    },
    {
     "data": {
      "image/png": "[encoded data removed]",
      "text/plain": [
       "<matplotlib.figure.Figure at 0x7f3b748>"
      ]
     },
     "metadata": {},
     "output_type": "display_data"
    }
   ],
   "source": [
    "import matplotlib.pyplot as plt\n",
    "import numpy as np\n",
    "from scipy.optimize import curve_fit\n",
    "\n",
    "weight=(0, 100, 200, 300, 400, 500)\n",
    "newtons=(0.10, 0.50, 1.00, 1.25, 1.50, 1.75)\n",
    "xx = np.linspace(0, 600, 20)\n",
    "\n",
    "def lin_model(x,a,b):\n",
    "    return a*x + b\n",
    "\n",
    "a,b=curve_fit(lin_model,weight,newtons)[0]\n",
    "print(a,b)\n",
    "\n",
    "plt.plot(weight,newtons,'o')\n",
    "plt.plot(xx,lin_model(xx,a,b))\n",
    "plt.xlabel('Mass(g)')\n",
    "plt.ylabel('Force(N)')\n",
    "plt.title ('Frictional Displacement')\n",
    "plt.ylim([0,3])\n",
    "plt.show()"
   ]
  },
  {
   "cell_type": "markdown",
   "metadata": {},
   "source": [
    "## Results"
   ]
  },
  {
   "cell_type": "markdown",
   "metadata": {
    "collapsed": true
   },
   "source": [
    "For our results we followed the model $y=ax+b$. It gave us a linear line. From the results, we followed the model. We used linear regression to retain the linear equation... \n",
    "$$f=0.0033m+0.1952$$"
   ]
  },
  {
   "cell_type": "markdown",
   "metadata": {
    "collapsed": true
   },
   "source": [
    "## Conclusion"
   ]
  },
  {
   "cell_type": "markdown",
   "metadata": {},
   "source": [
    "According to the equation, when m=0,the force applied would be 0.1952 Newtons. This would be the amount of force required to displace the object when no weight is added to the block. What we did not consider is the actual weight of the box itself, which is why the force is not 0 when the weight is 0, according to the graph. The mass of the box would be represented further if the negative x-axis was shown.   "
   ]
  },
  {
   "cell_type": "code",
   "execution_count": null,
   "metadata": {
    "collapsed": true
   },
   "outputs": [],
   "source": []
  }
 ],
 "metadata": {
  "kernelspec": {
   "display_name": "Python 3",
   "language": "python",
   "name": "python3"
  },
  "language_info": {
   "codemirror_mode": {
    "name": "ipython",
    "version": 3
   },
   "file_extension": ".py",
   "mimetype": "text/x-python",
   "name": "python",
   "nbconvert_exporter": "python",
   "pygments_lexer": "ipython3",
   "version": "3.4.4"
  }
 },
 "nbformat": 4,
 "nbformat_minor": 0
}
