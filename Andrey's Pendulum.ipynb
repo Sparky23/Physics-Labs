{
 "cells": [
  {
   "cell_type": "markdown",
   "metadata": {},
   "source": [
    "# Oscillation of Home Built Pendulum"
   ]
  },
  {
   "cell_type": "markdown",
   "metadata": {},
   "source": [
    "## Introduction"
   ]
  },
  {
   "cell_type": "markdown",
   "metadata": {},
   "source": [
    "For this lab I have built and will test my own pendulum. I will be measuring my pendulum's oscillation by one period. The equation modeled for oscillation is $$x''=-\\omega^2*x.$$"
   ]
  },
  {
   "cell_type": "markdown",
   "metadata": {},
   "source": [
    "## Procedure"
   ]
  },
  {
   "cell_type": "markdown",
   "metadata": {},
   "source": [
    "Building: To build my pendulum I used a hard ceramic-like rectangle as my base. I took two twelve inch wooden planks from my moms closet. I inserted one plank in the center of the base and the other plank was placed horizontally on top of the first plank. I drilled a nail into the second plank and left space for the object to be between the nail and the plank.\n",
    "Testing: I will test my pendulum several times. Each will be to measure my pendulum for a period one one oscillation. I will use my phone as a stopwatch and record the time. I will then take the average of all my measurements."
   ]
  },
  {
   "cell_type": "code",
   "execution_count": null,
   "metadata": {
    "collapsed": true
   },
   "outputs": [],
   "source": []
  }
 ],
 "metadata": {
  "kernelspec": {
   "display_name": "Python 3",
   "language": "python",
   "name": "python3"
  },
  "language_info": {
   "codemirror_mode": {
    "name": "ipython",
    "version": 3
   },
   "file_extension": ".py",
   "mimetype": "text/x-python",
   "name": "python",
   "nbconvert_exporter": "python",
   "pygments_lexer": "ipython3",
   "version": "3.4.5"
  }
 },
 "nbformat": 4,
 "nbformat_minor": 0
}
