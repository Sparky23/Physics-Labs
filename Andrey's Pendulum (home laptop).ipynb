{
 "cells": [
  {
   "cell_type": "markdown",
   "metadata": {},
   "source": [
    "# Oscillation of Home Built Pendulum"
   ]
  },
  {
   "cell_type": "markdown",
   "metadata": {},
   "source": [
    "## Introduction"
   ]
  },
  {
   "cell_type": "markdown",
   "metadata": {},
   "source": [
    "For this lab I have built and will test my own pendulum. I will be measuring my pendulum's oscillation by one period. The equation modeled for oscillation is $$x''=-\\omega^2*x.$$"
   ]
  },
  {
   "cell_type": "markdown",
   "metadata": {},
   "source": [
    "## Procedure"
   ]
  },
  {
   "cell_type": "markdown",
   "metadata": {},
   "source": [
    "Building: To build my pendulum I used a hard ceramic-like rectangle as my base. I took two twelve inch wooden planks from my moms closet. I inserted one plank in the center of the base and the other plank was placed horizontally on top of the first plank. I placed a thumbtack into the second plank and put my obect, fruit snacks, on the thumbtack. \n",
    "\n",
    "Testing: I will test my pendulum for a period of one oscillation once. I will let my fruit snacks swing ten times and record how many seconds it took. I will use my phone as a stopwatch and start from the moment i let go to the tenth swing. "
   ]
  },
  {
   "cell_type": "markdown",
   "metadata": {},
   "source": [
    "## Results"
   ]
  },
  {
   "cell_type": "markdown",
   "metadata": {},
   "source": [
    "I pulled back my fruit snacks and let go. After the ten swings i stopped the stopwatch. The period of oscillation was 7.92 seconds."
   ]
  },
  {
   "cell_type": "markdown",
   "metadata": {},
   "source": [
    "## Conclusion"
   ]
  },
  {
   "cell_type": "markdown",
   "metadata": {},
   "source": [
    "My pendulum was not a success. It has a time error of about three seconds. I needed to put more weight to the fruit snacks or replace it with a heavier object if I wanted the pendulum to be successful."
   ]
  }
 ],
 "metadata": {
  "kernelspec": {
   "display_name": "Python 3",
   "language": "python",
   "name": "python3"
  },
  "language_info": {
   "codemirror_mode": {
    "name": "ipython",
    "version": 3
   },
   "file_extension": ".py",
   "mimetype": "text/x-python",
   "name": "python",
   "nbconvert_exporter": "python",
   "pygments_lexer": "ipython3",
   "version": "3.5.2"
  }
 },
 "nbformat": 4,
 "nbformat_minor": 1
}
